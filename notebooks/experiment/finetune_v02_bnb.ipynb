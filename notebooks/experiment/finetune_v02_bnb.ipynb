{
 "cells": [
  {
   "cell_type": "code",
   "execution_count": null,
   "metadata": {},
   "outputs": [],
   "source": [
    "import logging\n",
    "import os\n",
    "import gc\n",
    "from pathlib import Path\n",
    "import json\n",
    "\n",
    "import joblib\n",
    "import torch\n",
    "import wandb\n",
    "import pandas as pd\n",
    "from hydra import compose, initialize\n",
    "from hydra.core.hydra_config import HydraConfig\n",
    "from hydra.utils import instantiate\n",
    "from kaggle import KaggleApi\n",
    "\n",
    "from lightning import seed_everything\n",
    "from lightning.pytorch.utilities.memory import garbage_collection_cuda\n",
    "from sklearn.model_selection import BaseCrossValidator\n",
    "\n",
    "from src.utils.instantiators import instantiate_callbacks, instantiate_loggers\n",
    "from src.utils.kaggle_utils import download_kaggle_competition_dataset, download_kaggle_datasets\n",
    "\n",
    "from src.utils.metrics import binary_classification_metrics\n",
    "from lightning.pytorch.plugins import BitsandbytesPrecision"
   ]
  },
  {
   "cell_type": "code",
   "execution_count": null,
   "metadata": {},
   "outputs": [],
   "source": [
    "precision = BitsandbytesPrecision(mode=\"nf4-dq\")"
   ]
  },
  {
   "cell_type": "code",
   "execution_count": null,
   "metadata": {},
   "outputs": [],
   "source": [
    "OVERRIDES: list[str] = os.getenv(\"OVERRIDES\", \"experiment=000-finetune\").split(\",\")\n",
    "WANDB_KEY = os.getenv(\"WANDB_KEY\", None)  # input your wandb key as environment variable"
   ]
  },
  {
   "cell_type": "code",
   "execution_count": null,
   "metadata": {},
   "outputs": [],
   "source": [
    "if OVERRIDES is None:\n",
    "    raise ValueError(\"OVERRIDES is not set\")\n",
    "\n",
    "with initialize(version_base=None, config_path=\"../../configs\"):\n",
    "    CFG = compose(\n",
    "        config_name=\"config.yaml\",\n",
    "        return_hydra_config=True,\n",
    "        overrides=OVERRIDES,\n",
    "    )\n",
    "    HydraConfig.instance().set_config(CFG)  # use HydraConfig for notebook to use hydra job\n",
    "\n",
    "logger = logging.getLogger()\n",
    "logger.setLevel(logging.DEBUG)\n",
    "\n",
    "if not logger.handlers:\n",
    "    handler = logging.StreamHandler()\n",
    "    logger.addHandler(handler)\n",
    "\n",
    "KAGGLE_CLIENT = KaggleApi()\n",
    "KAGGLE_CLIENT.authenticate()\n",
    "\n",
    "INPUT_DIR = Path(CFG.paths.input_dir)\n",
    "\n",
    "logger.info(f\"start {OVERRIDES} 🚀\")\n",
    "seed_everything(CFG.seed)\n",
    "wandb.login(key=WANDB_KEY)"
   ]
  },
  {
   "cell_type": "markdown",
   "metadata": {},
   "source": [
    "### Load Data\n"
   ]
  },
  {
   "cell_type": "code",
   "execution_count": null,
   "metadata": {},
   "outputs": [],
   "source": [
    "download_kaggle_competition_dataset(\n",
    "    client=KAGGLE_CLIENT,\n",
    "    competition=CFG.meta.competition,\n",
    "    out_dir=Path(CFG.paths.input_dir),\n",
    ")\n",
    "\n",
    "download_kaggle_datasets(\n",
    "    client=KAGGLE_CLIENT,\n",
    "    datasets=CFG.kaggle.external_datasets,\n",
    "    out_dir=INPUT_DIR,\n",
    ")"
   ]
  },
  {
   "cell_type": "code",
   "execution_count": null,
   "metadata": {},
   "outputs": [],
   "source": [
    "# external dataset\n",
    "train_df = pd.read_csv(INPUT_DIR / \"thedrcat/daigt-v2-train-dataset/train_v2_drcat_02.csv\")"
   ]
  },
  {
   "cell_type": "markdown",
   "metadata": {},
   "source": [
    "### Preprocess\n"
   ]
  },
  {
   "cell_type": "code",
   "execution_count": null,
   "metadata": {},
   "outputs": [],
   "source": [
    "if CFG.debug:\n",
    "    train_df = train_df.sample(100, random_state=CFG.seed).reset_index(drop=True)\n",
    "    if \"debug\" not in CFG.lightning.logger.wandb.group:\n",
    "        CFG.lightning.logger.wandb.group = CFG.experiment_name + \"_debug\"\n",
    "\n",
    "logger.debug(f\"train shape : {train_df.shape}\")\n",
    "logger.debug(f\"train generated label : {train_df['label'].sum()}\")"
   ]
  },
  {
   "cell_type": "markdown",
   "metadata": {},
   "source": [
    "### CV Split\n"
   ]
  },
  {
   "cell_type": "code",
   "execution_count": null,
   "metadata": {},
   "outputs": [],
   "source": [
    "def assign_fold_index(train_df: pd.DataFrame, kfold: BaseCrossValidator) -> pd.DataFrame:\n",
    "    train_df[\"fold\"] = -1\n",
    "    for fold_index, (_, valid_index) in enumerate(kfold.split(X=train_df, y=train_df[\"label\"])):\n",
    "        train_df.loc[valid_index, \"fold\"] = fold_index\n",
    "    return train_df\n",
    "\n",
    "\n",
    "kfold = instantiate(CFG.cv)\n",
    "train_df = assign_fold_index(train_df=train_df, kfold=kfold)"
   ]
  },
  {
   "cell_type": "markdown",
   "metadata": {},
   "source": [
    "### Training\n"
   ]
  },
  {
   "cell_type": "code",
   "execution_count": null,
   "metadata": {},
   "outputs": [],
   "source": [
    "result_dfs = []\n",
    "base_output_dir = Path(CFG.paths.output_dir)  # store output_dir for later use\n",
    "\n",
    "for i_fold in range(CFG.n_splits):\n",
    "    if i_fold not in CFG.train_folds:\n",
    "        continue\n",
    "\n",
    "    i_train_df = train_df.query(f\"fold != {i_fold}\").reset_index(drop=True)\n",
    "    i_valid_df = train_df.query(f\"fold == {i_fold}\").reset_index(drop=True)\n",
    "\n",
    "    logger.info(f\"# --------------- # start training fold={i_fold} 🚀 # --------------- # \")\n",
    "    CFG.paths.output_dir = str(base_output_dir / f\"fold{i_fold}\")\n",
    "    CFG.lightning.logger.wandb.name = f\"fold{i_fold}\"\n",
    "\n",
    "    logger.debug(f\"lightning trainer default_root_dir : {CFG.lightning.trainer.default_root_dir}\")\n",
    "    logger.debug(f\"lightning callbacks model_checkpoint dirpath : {CFG.lightning.callbacks.model_checkpoint.dirpath}\")\n",
    "\n",
    "    # instantiate lightning module, datamodule and trainer by fold\n",
    "    logger.info(f\"Instantiating lightning module <{CFG.lightning.model._target_}>\")\n",
    "    lt_module = instantiate(CFG.lightning.model)\n",
    "\n",
    "    logger.info(f\"Instantiating lightning datamodule <{CFG.lightning.data.lt_datamodule._target_}>\")\n",
    "    train_dataset = instantiate(CFG.lightning.data.train_dataset, df=i_train_df)\n",
    "    val_dataset = instantiate(CFG.lightning.data.val_dataset, df=i_valid_df)\n",
    "    lt_datamodule = instantiate(CFG.lightning.data.lt_datamodule, train_dataset=train_dataset, val_dataset=val_dataset)\n",
    "\n",
    "    logger.info(f\"Instantiating lightning trainer <{CFG.lightning.trainer}>\")\n",
    "    lt_logger = instantiate_loggers(CFG.lightning.logger)\n",
    "    callbacks = instantiate_callbacks(CFG.lightning.callbacks)\n",
    "    trainer = instantiate(CFG.lightning.trainer, logger=lt_logger, callbacks=callbacks)\n",
    "\n",
    "    ckpt_path = None\n",
    "    if CFG.ckpt_path is not None:\n",
    "        ckpt_path = CFG.ckpt_path.format(fold=i_fold)\n",
    "\n",
    "    trainer.fit(model=lt_module, datamodule=lt_datamodule, ckpt_path=ckpt_path)\n",
    "    val_predictions = trainer.predict(model=lt_module, datamodule=lt_datamodule, ckpt_path=\"best\")\n",
    "    val_predictions = (torch.concatenate(val_predictions)).sigmoid().float().numpy().reshape(-1)\n",
    "\n",
    "    # save dataframe assigned validation predictions\n",
    "    i_result_df = i_valid_df.assign(pred=val_predictions)\n",
    "    joblib.dump(i_result_df, Path(CFG.paths.output_dir) / \"val_predictions.pkl\")\n",
    "    result_dfs.append(i_result_df)\n",
    "\n",
    "    # evaluate\n",
    "    socres = binary_classification_metrics(y_true=i_valid_df[\"label\"], y_pred=val_predictions)\n",
    "    json.dump(socres, open(Path(CFG.paths.output_dir) / \"valid_scores.json\", \"w\"))\n",
    "    logger.info(f\"fold{i_fold} scores: {socres}\")\n",
    "\n",
    "    del i_result_df, i_valid_df, trainer, train_dataset, val_dataset, lt_datamodule\n",
    "    gc.collect()\n",
    "    torch.cuda.empty_cache()\n",
    "    garbage_collection_cuda()\n",
    "\n",
    "    # save only best weights\n",
    "    best_weights_path = Path(CFG.paths.output_dir) / \"weights\" / \"best.pth\"\n",
    "    best_weights_path.parent.mkdir(parents=True, exist_ok=True)\n",
    "    lt_module.load_state_dict(\n",
    "        torch.load(Path(CFG.lightning.callbacks.model_checkpoint.dirpath) / \"best.ckpt\")[\"state_dict\"]\n",
    "    )\n",
    "    torch.save(lt_module.net.state_dict(), best_weights_path)\n",
    "\n",
    "    del lt_module\n",
    "    gc.collect()\n",
    "    torch.cuda.empty_cache()\n",
    "    garbage_collection_cuda()\n",
    "\n",
    "\n",
    "CFG.paths.output_dir = str(base_output_dir)  # restore output_dir\n",
    "valid_results_df = pd.concat(result_dfs, axis=0).reset_index(drop=True)\n",
    "valid_results_df.to_csv(Path(CFG.paths.output_dir) / \"valid_results.csv\", index=False)"
   ]
  },
  {
   "cell_type": "code",
   "execution_count": null,
   "metadata": {},
   "outputs": [],
   "source": [
    "valid_results_df"
   ]
  },
  {
   "cell_type": "code",
   "execution_count": null,
   "metadata": {},
   "outputs": [],
   "source": []
  }
 ],
 "metadata": {
  "kernelspec": {
   "display_name": ".venv",
   "language": "python",
   "name": "python3"
  },
  "language_info": {
   "codemirror_mode": {
    "name": "ipython",
    "version": 3
   },
   "file_extension": ".py",
   "mimetype": "text/x-python",
   "name": "python",
   "nbconvert_exporter": "python",
   "pygments_lexer": "ipython3",
   "version": "3.10.12"
  }
 },
 "nbformat": 4,
 "nbformat_minor": 2
}
