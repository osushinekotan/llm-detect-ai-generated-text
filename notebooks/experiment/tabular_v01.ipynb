{
 "cells": [
  {
   "cell_type": "code",
   "execution_count": null,
   "metadata": {},
   "outputs": [],
   "source": [
    "import logging\n",
    "import os\n",
    "import gc\n",
    "from pathlib import Path\n",
    "import json\n",
    "\n",
    "import joblib\n",
    "import torch\n",
    "import wandb\n",
    "import pandas as pd\n",
    "from hydra import compose, initialize\n",
    "from hydra.core.hydra_config import HydraConfig\n",
    "from hydra.utils import instantiate\n",
    "from kaggle import KaggleApi\n",
    "\n",
    "from lightning import seed_everything\n",
    "from sklearn.model_selection import BaseCrossValidator\n",
    "\n",
    "from src.utils.instantiators import instantiate_callbacks, instantiate_loggers\n",
    "from src.utils.kaggle_utils import download_kaggle_competition_dataset, download_kaggle_datasets\n",
    "\n",
    "from src.utils.metrics import binary_classification_metrics"
   ]
  },
  {
   "cell_type": "code",
   "execution_count": null,
   "metadata": {},
   "outputs": [],
   "source": [
    "OVERRIDES: list[str] = os.getenv(\"OVERRIDES\", \"experiment=000-finetune\").split(\",\")\n",
    "WANDB_KEY = os.getenv(\"WANDB_KEY\", None)  # input your wandb key as environment variable"
   ]
  },
  {
   "cell_type": "code",
   "execution_count": null,
   "metadata": {},
   "outputs": [],
   "source": [
    "if OVERRIDES is None:\n",
    "    raise ValueError(\"OVERRIDES is not set\")\n",
    "\n",
    "with initialize(version_base=None, config_path=\"../../configs\"):\n",
    "    CFG = compose(\n",
    "        config_name=\"config.yaml\",\n",
    "        return_hydra_config=True,\n",
    "        overrides=OVERRIDES,\n",
    "    )\n",
    "    HydraConfig.instance().set_config(CFG)  # use HydraConfig for notebook to use hydra job\n",
    "\n",
    "logger = logging.getLogger()\n",
    "logger.setLevel(logging.DEBUG)\n",
    "\n",
    "if not logger.handlers:\n",
    "    handler = logging.StreamHandler()\n",
    "    logger.addHandler(handler)\n",
    "\n",
    "KAGGLE_CLIENT = KaggleApi()\n",
    "KAGGLE_CLIENT.authenticate()\n",
    "\n",
    "INPUT_DIR = Path(CFG.paths.input_dir)\n",
    "\n",
    "logger.info(f\"start {OVERRIDES} 🚀\")\n",
    "seed_everything(CFG.seed)\n",
    "wandb.login(key=WANDB_KEY)"
   ]
  },
  {
   "cell_type": "markdown",
   "metadata": {},
   "source": [
    "### Load Data\n"
   ]
  },
  {
   "cell_type": "code",
   "execution_count": null,
   "metadata": {},
   "outputs": [],
   "source": [
    "download_kaggle_competition_dataset(\n",
    "    client=KAGGLE_CLIENT,\n",
    "    competition=CFG.meta.competition,\n",
    "    out_dir=Path(CFG.paths.input_dir),\n",
    ")\n",
    "\n",
    "download_kaggle_datasets(\n",
    "    client=KAGGLE_CLIENT,\n",
    "    datasets=CFG.kaggle.external_datasets,\n",
    "    out_dir=INPUT_DIR,\n",
    ")"
   ]
  },
  {
   "cell_type": "code",
   "execution_count": null,
   "metadata": {},
   "outputs": [],
   "source": [
    "# external dataset\n",
    "train_df = pd.read_csv(INPUT_DIR / \"thedrcat/daigt-v2-train-dataset/train_v2_drcat_02.csv\")"
   ]
  },
  {
   "cell_type": "markdown",
   "metadata": {},
   "source": [
    "### Preprocess\n"
   ]
  },
  {
   "cell_type": "code",
   "execution_count": null,
   "metadata": {},
   "outputs": [],
   "source": [
    "if CFG.debug:\n",
    "    train_df = train_df.sample(100, random_state=CFG.seed).reset_index(drop=True)\n",
    "    if \"debug\" not in CFG.lightning.logger.wandb.group:\n",
    "        CFG.lightning.logger.wandb.group = CFG.experiment_name + \"_debug\"\n",
    "\n",
    "logger.debug(f\"train shape : {train_df.shape}\")\n",
    "logger.debug(f\"train generated label : {train_df['label'].sum()}\")"
   ]
  },
  {
   "cell_type": "markdown",
   "metadata": {},
   "source": [
    "### CV Split\n"
   ]
  },
  {
   "cell_type": "code",
   "execution_count": null,
   "metadata": {},
   "outputs": [],
   "source": [
    "def assign_fold_index(train_df: pd.DataFrame, kfold: BaseCrossValidator) -> pd.DataFrame:\n",
    "    train_df[\"fold\"] = -1\n",
    "    for fold_index, (_, valid_index) in enumerate(kfold.split(X=train_df, y=train_df[\"label\"])):\n",
    "        train_df.loc[valid_index, \"fold\"] = fold_index\n",
    "    return train_df\n",
    "\n",
    "\n",
    "kfold = instantiate(CFG.cv)\n",
    "train_df = assign_fold_index(train_df=train_df, kfold=kfold)"
   ]
  },
  {
   "cell_type": "code",
   "execution_count": null,
   "metadata": {},
   "outputs": [],
   "source": []
  }
 ],
 "metadata": {
  "kernelspec": {
   "display_name": ".venv",
   "language": "python",
   "name": "python3"
  },
  "language_info": {
   "codemirror_mode": {
    "name": "ipython",
    "version": 3
   },
   "file_extension": ".py",
   "mimetype": "text/x-python",
   "name": "python",
   "nbconvert_exporter": "python",
   "pygments_lexer": "ipython3",
   "version": "3.10.12"
  }
 },
 "nbformat": 4,
 "nbformat_minor": 2
}
