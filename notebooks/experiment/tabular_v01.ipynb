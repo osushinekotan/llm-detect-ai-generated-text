{
 "cells": [
  {
   "cell_type": "code",
   "execution_count": null,
   "metadata": {},
   "outputs": [],
   "source": [
    "import logging\n",
    "import os\n",
    "from pathlib import Path\n",
    "\n",
    "import imker\n",
    "import nltk\n",
    "import pandas as pd\n",
    "import wandb\n",
    "from hydra import compose, initialize\n",
    "from hydra.core.hydra_config import HydraConfig\n",
    "from hydra.utils import instantiate\n",
    "from kaggle import KaggleApi\n",
    "from lightning import seed_everything\n",
    "from sklearn.model_selection import BaseCrossValidator\n",
    "\n",
    "from src.imker.tasks.preprocess import ExtractTfIdfFeaturesTask, TextCleansingTask, ExtractRawFeaturesTask\n",
    "from src.utils.kaggle_utils import download_kaggle_competition_dataset, download_kaggle_datasets"
   ]
  },
  {
   "cell_type": "code",
   "execution_count": null,
   "metadata": {},
   "outputs": [],
   "source": [
    "OVERRIDES: list[str] = os.getenv(\"OVERRIDES\", \"experiment=004-tabular\").split(\",\")\n",
    "WANDB_KEY = os.getenv(\"WANDB_KEY\", None)  # input your wandb key as environment variable"
   ]
  },
  {
   "cell_type": "code",
   "execution_count": null,
   "metadata": {},
   "outputs": [],
   "source": [
    "if OVERRIDES is None:\n",
    "    raise ValueError(\"OVERRIDES is not set\")\n",
    "\n",
    "with initialize(version_base=None, config_path=\"../../configs\"):\n",
    "    CFG = compose(\n",
    "        config_name=\"config.yaml\",\n",
    "        return_hydra_config=True,\n",
    "        overrides=OVERRIDES,\n",
    "    )\n",
    "    HydraConfig.instance().set_config(CFG)  # use HydraConfig for notebook to use hydra job\n",
    "\n",
    "logger = logging.getLogger()\n",
    "logger.setLevel(logging.DEBUG)\n",
    "\n",
    "if not logger.handlers:\n",
    "    handler = logging.StreamHandler()\n",
    "    logger.addHandler(handler)\n",
    "\n",
    "KAGGLE_CLIENT = KaggleApi()\n",
    "KAGGLE_CLIENT.authenticate()\n",
    "\n",
    "INPUT_DIR = Path(CFG.paths.input_dir)\n",
    "\n",
    "logger.info(f\"start {OVERRIDES} 🚀\")\n",
    "seed_everything(CFG.seed)\n",
    "wandb.login(key=WANDB_KEY)\n",
    "\n",
    "nltk.data.path.append(CFG.paths.output_dir)\n",
    "nltk.download(\"punkt\", download_dir=CFG.paths.output_dir)\n",
    "\n",
    "os.environ[\"CUML_LOG_LEVEL\"] = \"error\""
   ]
  },
  {
   "cell_type": "markdown",
   "metadata": {},
   "source": [
    "### Load Data\n"
   ]
  },
  {
   "cell_type": "code",
   "execution_count": null,
   "metadata": {},
   "outputs": [],
   "source": [
    "download_kaggle_competition_dataset(\n",
    "    client=KAGGLE_CLIENT,\n",
    "    competition=CFG.meta.competition,\n",
    "    out_dir=Path(CFG.paths.input_dir),\n",
    ")\n",
    "\n",
    "download_kaggle_datasets(\n",
    "    client=KAGGLE_CLIENT,\n",
    "    datasets=CFG.kaggle.external_datasets,\n",
    "    out_dir=INPUT_DIR,\n",
    ")"
   ]
  },
  {
   "cell_type": "code",
   "execution_count": null,
   "metadata": {},
   "outputs": [],
   "source": [
    "train_df = pd.read_csv(INPUT_DIR / \"thedrcat/daigt-v2-train-dataset/train_v2_drcat_02.csv\")\n",
    "\n",
    "if CFG.debug:\n",
    "    train_df = train_df.sample(100, random_state=CFG.seed).reset_index(drop=True)\n",
    "    if \"debug\" not in CFG.lightning.logger.wandb.group:\n",
    "        CFG.lightning.logger.wandb.group = CFG.experiment_name + \"_debug\"\n",
    "\n",
    "logger.debug(f\"train shape : {train_df.shape}\")\n",
    "logger.debug(f\"train generated label : {train_df['label'].sum()}\")"
   ]
  },
  {
   "cell_type": "markdown",
   "metadata": {},
   "source": [
    "### CV Split\n"
   ]
  },
  {
   "cell_type": "code",
   "execution_count": null,
   "metadata": {},
   "outputs": [],
   "source": [
    "def assign_fold_index(train_df: pd.DataFrame, kfold: BaseCrossValidator) -> pd.DataFrame:\n",
    "    train_df[\"fold\"] = -1\n",
    "    for fold_index, (_, valid_index) in enumerate(kfold.split(X=train_df, y=train_df[\"label\"])):\n",
    "        train_df.loc[valid_index, \"fold\"] = fold_index\n",
    "    return train_df\n",
    "\n",
    "\n",
    "kfold = instantiate(CFG.cv)\n",
    "train_df = assign_fold_index(train_df=train_df, kfold=kfold)\n",
    "train_df"
   ]
  },
  {
   "cell_type": "markdown",
   "metadata": {},
   "source": [
    "### Feature Engineering\n"
   ]
  },
  {
   "cell_type": "code",
   "execution_count": null,
   "metadata": {},
   "outputs": [],
   "source": [
    "class Preprocessor(imker.BasePreProcessor):\n",
    "    def __init__(self):\n",
    "        self.extract_raw_features_task = imker.Task(\n",
    "            imker.TaskConfig(\n",
    "                task=ExtractRawFeaturesTask,\n",
    "                init_params={\"base_columns\": [\"label\", \"fold\"]},\n",
    "            )\n",
    "        )\n",
    "        self.text_cleansing_task = imker.Task(\n",
    "            imker.TaskConfig(\n",
    "                task=TextCleansingTask,\n",
    "                init_params={\"text_columns\": [\"text\"]},\n",
    "            )\n",
    "        )\n",
    "        self.extract_tfidf_features_task = imker.Task(\n",
    "            imker.TaskConfig(\n",
    "                task=ExtractTfIdfFeaturesTask,\n",
    "                init_params={\n",
    "                    \"text_columns\": [\"text_cleansed\"],\n",
    "                    \"max_features\": 100,\n",
    "                    \"ngram_range\": (1, 1),\n",
    "                    \"use_gpu\": False,\n",
    "                },\n",
    "                cache=True,\n",
    "            )\n",
    "        )\n",
    "\n",
    "    def forward(self, X, y=None):\n",
    "        raw_features_x = self.extract_raw_features_task(X)\n",
    "\n",
    "        # flow for text columns\n",
    "        cleansed_texts_x = self.text_cleansing_task(X)\n",
    "        cleansed_texts_x = self.extract_tfidf_features_task(cleansed_texts_x)\n",
    "        return pd.concat([raw_features_x, cleansed_texts_x], axis=1)\n",
    "\n",
    "\n",
    "pipe = imker.Pipeline(repo_dir=CFG.paths.output_dir, exp_name=CFG.experiment_name, pipeline_name=CFG.meta.competition)\n",
    "pipe.set_preprocessor(Preprocessor)"
   ]
  },
  {
   "cell_type": "code",
   "execution_count": null,
   "metadata": {},
   "outputs": [],
   "source": [
    "pipe.test_preprocessing(X=train_df, reset_identifier=False)"
   ]
  },
  {
   "cell_type": "code",
   "execution_count": null,
   "metadata": {},
   "outputs": [],
   "source": [
    "pipe.dump()"
   ]
  },
  {
   "cell_type": "code",
   "execution_count": null,
   "metadata": {},
   "outputs": [],
   "source": [
    "pipe2 = imker.Pipeline.load(\n",
    "    repo_dir=CFG.paths.output_dir,\n",
    "    exp_name=CFG.experiment_name,\n",
    "    pipeline_name=CFG.meta.competition,\n",
    "    preprocessor=Preprocessor,\n",
    ")\n",
    "pipe2.test_preprocessing(X=train_df)"
   ]
  },
  {
   "cell_type": "code",
   "execution_count": null,
   "metadata": {},
   "outputs": [],
   "source": []
  }
 ],
 "metadata": {
  "kernelspec": {
   "display_name": ".venv",
   "language": "python",
   "name": "python3"
  },
  "language_info": {
   "codemirror_mode": {
    "name": "ipython",
    "version": 3
   },
   "file_extension": ".py",
   "mimetype": "text/x-python",
   "name": "python",
   "nbconvert_exporter": "python",
   "pygments_lexer": "ipython3",
   "version": "3.10.13"
  }
 },
 "nbformat": 4,
 "nbformat_minor": 2
}
