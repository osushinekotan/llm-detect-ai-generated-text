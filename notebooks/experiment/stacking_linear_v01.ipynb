{
 "cells": [
  {
   "cell_type": "code",
   "execution_count": null,
   "metadata": {},
   "outputs": [],
   "source": [
    "import logging\n",
    "import os\n",
    "from pathlib import Path\n",
    "import json\n",
    "import joblib\n",
    "import wandb\n",
    "import pandas as pd\n",
    "from hydra import compose, initialize\n",
    "from hydra.core.hydra_config import HydraConfig\n",
    "from hydra.utils import instantiate\n",
    "\n",
    "from kaggle import KaggleApi\n",
    "from lightning import seed_everything\n",
    "from sklearn.model_selection import BaseCrossValidator\n",
    "\n",
    "from src.utils.metrics import binary_classification_metrics"
   ]
  },
  {
   "cell_type": "code",
   "execution_count": null,
   "metadata": {},
   "outputs": [],
   "source": [
    "OVERRIDES: list[str] = os.getenv(\"OVERRIDES\", \"experiment=002e\").split(\",\")\n",
    "WANDB_KEY = os.getenv(\"WANDB_KEY\", None)  # input your wandb key as environment variable"
   ]
  },
  {
   "cell_type": "code",
   "execution_count": null,
   "metadata": {},
   "outputs": [],
   "source": [
    "if OVERRIDES is None:\n",
    "    raise ValueError(\"OVERRIDES is not set\")\n",
    "\n",
    "with initialize(version_base=None, config_path=\"../../configs\"):\n",
    "    CFG = compose(\n",
    "        config_name=\"config.yaml\",\n",
    "        return_hydra_config=True,\n",
    "        overrides=OVERRIDES,\n",
    "    )\n",
    "    HydraConfig.instance().set_config(CFG)  # use HydraConfig for notebook to use hydra job\n",
    "\n",
    "logger = logging.getLogger()\n",
    "logger.setLevel(logging.DEBUG)\n",
    "\n",
    "if not logger.handlers:\n",
    "    handler = logging.StreamHandler()\n",
    "    logger.addHandler(handler)\n",
    "\n",
    "KAGGLE_CLIENT = KaggleApi()\n",
    "KAGGLE_CLIENT.authenticate()\n",
    "\n",
    "INPUT_DIR = Path(CFG.paths.input_dir)\n",
    "RESOURCES_DIR = Path(CFG.paths.resource_dir)\n",
    "\n",
    "\n",
    "logger.info(f\"start {OVERRIDES} 🚀\")\n",
    "seed_everything(CFG.seed)\n",
    "wandb.login(key=WANDB_KEY)"
   ]
  },
  {
   "cell_type": "code",
   "execution_count": null,
   "metadata": {},
   "outputs": [],
   "source": [
    "inputs = CFG.stacking.level_0.inputs\n",
    "train_df = pd.DataFrame()\n",
    "\n",
    "for i, i_input in enumerate(inputs):\n",
    "    usecols = [\"text\", \"label\", \"pred\"]\n",
    "    if i > 0:\n",
    "        usecols = [\"pred\"]\n",
    "\n",
    "    df = pd.read_csv(RESOURCES_DIR / \"outputs\" / i_input / \"valid_results.csv\", usecols=usecols).rename(\n",
    "        columns={\"pred\": f\"pred_{i}\"}\n",
    "    )\n",
    "    train_df = pd.concat([train_df, df], axis=1)"
   ]
  },
  {
   "cell_type": "markdown",
   "metadata": {},
   "source": [
    "### CV Split\n"
   ]
  },
  {
   "cell_type": "code",
   "execution_count": null,
   "metadata": {},
   "outputs": [],
   "source": [
    "def assign_fold_index(train_df: pd.DataFrame, kfold: BaseCrossValidator) -> pd.DataFrame:\n",
    "    train_df[\"fold\"] = -1\n",
    "    for fold_index, (_, valid_index) in enumerate(kfold.split(X=train_df, y=train_df[\"label\"])):\n",
    "        train_df.loc[valid_index, \"fold\"] = fold_index\n",
    "    return train_df\n",
    "\n",
    "\n",
    "kfold = instantiate(CFG.cv)\n",
    "train_df = assign_fold_index(train_df=train_df, kfold=kfold)\n",
    "logger.debug(f\"train_df.shape: {train_df.shape}\")"
   ]
  },
  {
   "cell_type": "code",
   "execution_count": null,
   "metadata": {},
   "outputs": [],
   "source": [
    "no_feature_cols = [\"text\", \"label\", \"fold\"]  # exclude label and fold from feature_cols\n",
    "feature_cols = [col for col in train_df.columns if col not in no_feature_cols]\n",
    "\n",
    "result_dfs = []\n",
    "base_output_dir = Path(CFG.paths.output_dir)  # store output_dir for later use\n",
    "\n",
    "for i_fold in range(CFG.n_splits):\n",
    "    if i_fold not in CFG.train_folds:\n",
    "        continue\n",
    "\n",
    "    i_train_df = train_df.query(f\"fold != {i_fold}\").reset_index(drop=True)\n",
    "    i_valid_df = train_df.query(f\"fold == {i_fold}\").reset_index(drop=True)\n",
    "\n",
    "    CFG.paths.output_dir = str(base_output_dir / f\"fold{i_fold}\")\n",
    "    weights_path = Path(CFG.paths.output_dir) / \"best.pkl\"\n",
    "    weights_path.parent.mkdir(parents=True, exist_ok=True)\n",
    "\n",
    "    # training\n",
    "    estimator = instantiate(CFG.stacking.level_0.model.estimator)\n",
    "    estimator.fit(X=i_train_df[feature_cols], y=i_train_df[\"label\"])\n",
    "    joblib.dump(estimator, weights_path)\n",
    "\n",
    "    # validation\n",
    "    val_predictions = estimator.predict(X=i_valid_df[feature_cols]).clip(0, 1)\n",
    "\n",
    "    # save dataframe assigned validation predictions\n",
    "    i_result_df = i_valid_df.assign(pred=(val_predictions))\n",
    "    joblib.dump(i_result_df, Path(CFG.paths.output_dir) / \"val_predictions.pkl\")\n",
    "    result_dfs.append(i_result_df)\n",
    "\n",
    "    # evaluate\n",
    "    socres = binary_classification_metrics(y_true=i_valid_df[\"label\"], y_pred=val_predictions)\n",
    "    json.dump(socres, open(Path(CFG.paths.output_dir) / \"valid_scores.json\", \"w\"))\n",
    "    logger.info(f\"fold{i_fold} scores: {socres}\")\n",
    "\n",
    "CFG.paths.output_dir = str(base_output_dir)  # restore output_dir\n",
    "valid_results_df = pd.concat(result_dfs, axis=0).reset_index(drop=True)\n",
    "valid_results_df.to_csv(Path(CFG.paths.output_dir) / \"valid_results.csv\", index=False)"
   ]
  },
  {
   "cell_type": "code",
   "execution_count": null,
   "metadata": {},
   "outputs": [],
   "source": [
    "valid_results_df"
   ]
  },
  {
   "cell_type": "code",
   "execution_count": null,
   "metadata": {},
   "outputs": [],
   "source": []
  }
 ],
 "metadata": {
  "kernelspec": {
   "display_name": ".venv",
   "language": "python",
   "name": "python3"
  },
  "language_info": {
   "codemirror_mode": {
    "name": "ipython",
    "version": 3
   },
   "file_extension": ".py",
   "mimetype": "text/x-python",
   "name": "python",
   "nbconvert_exporter": "python",
   "pygments_lexer": "ipython3",
   "version": "3.10.12"
  }
 },
 "nbformat": 4,
 "nbformat_minor": 2
}
