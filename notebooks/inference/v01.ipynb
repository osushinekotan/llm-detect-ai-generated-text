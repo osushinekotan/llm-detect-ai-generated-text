{
 "cells": [
  {
   "cell_type": "code",
   "execution_count": 1,
   "metadata": {},
   "outputs": [],
   "source": [
    "import logging\n",
    "import os\n",
    "import re\n",
    "from pathlib import Path\n",
    "\n",
    "import numpy as np\n",
    "import pandas as pd\n",
    "import torch\n",
    "from hydra import compose, initialize\n",
    "from hydra.core.hydra_config import HydraConfig\n",
    "from hydra.utils import instantiate\n",
    "from lightning import seed_everything\n",
    "from torch import nn\n",
    "from torch.utils.data import DataLoader\n",
    "from tqdm import tqdm\n",
    "\n",
    "from src.utils.torch_utils import collate"
   ]
  },
  {
   "cell_type": "code",
   "execution_count": 2,
   "metadata": {},
   "outputs": [],
   "source": [
    "EXPERIMENT = os.getenv(\"EXPERIMENT\", \"000\")  # input your experiment number as environment variable"
   ]
  },
  {
   "cell_type": "code",
   "execution_count": 3,
   "metadata": {},
   "outputs": [
    {
     "name": "stderr",
     "output_type": "stream",
     "text": [
      "start experiment=000 🚀\n",
      "Seed set to 42\n"
     ]
    },
    {
     "data": {
      "text/plain": [
       "42"
      ]
     },
     "execution_count": 3,
     "metadata": {},
     "output_type": "execute_result"
    }
   ],
   "source": [
    "if EXPERIMENT is None:\n",
    "    raise ValueError(\"EXPERIMENT is not set\")\n",
    "\n",
    "with initialize(version_base=None, config_path=\"../../configs\"):\n",
    "    CFG = compose(\n",
    "        config_name=\"config.yaml\",\n",
    "        return_hydra_config=True,\n",
    "        overrides=[f\"experiment={EXPERIMENT}\"],\n",
    "    )\n",
    "    HydraConfig.instance().set_config(CFG)  # use HydraConfig for notebook to use hydra job\n",
    "\n",
    "logger = logging.getLogger()\n",
    "logger.setLevel(logging.DEBUG)\n",
    "\n",
    "if not logger.handlers:\n",
    "    handler = logging.StreamHandler()\n",
    "    logger.addHandler(handler)\n",
    "\n",
    "INPUT_DIR = Path(CFG.paths.input_dir)\n",
    "\n",
    "logger.info(f\"start experiment={EXPERIMENT} 🚀\")\n",
    "seed_everything(CFG.seed)\n",
    "DEVICE = torch.device(\"cuda\" if torch.cuda.is_available() else \"cpu\")"
   ]
  },
  {
   "cell_type": "markdown",
   "metadata": {},
   "source": [
    "### load data\n"
   ]
  },
  {
   "cell_type": "code",
   "execution_count": 5,
   "metadata": {},
   "outputs": [],
   "source": [
    "def remove_brackets_sentence(text: str) -> str:\n",
    "    pattern = re.compile(r\"^.*\\[.*\\].*$\", re.MULTILINE)\n",
    "    return re.sub(pattern, \"\", text)\n",
    "\n",
    "\n",
    "def remove_title_sentence(text: str) -> str:\n",
    "    pattern = re.compile(r\"D^[ \\t]*title:.*$\", re.IGNORECASE | re.MULTILINE)\n",
    "    result = re.sub(pattern, \"\", text)\n",
    "    result = re.sub(r\"\\n{2,}\", \"\\n\", result)\n",
    "    return result.strip()\n",
    "\n",
    "\n",
    "def remove_quotes(text: str) -> str:\n",
    "    return re.sub(r'[\\'\"]', \"\", text)\n",
    "\n",
    "\n",
    "def clean_text(text: str) -> pd.DataFrame:\n",
    "    cleanse_fns = [\n",
    "        remove_brackets_sentence,\n",
    "        remove_title_sentence,\n",
    "        remove_quotes,\n",
    "    ]\n",
    "    for fn in cleanse_fns:\n",
    "        text = fn(text)\n",
    "    return text.lower()"
   ]
  },
  {
   "cell_type": "code",
   "execution_count": 6,
   "metadata": {},
   "outputs": [],
   "source": [
    "test_df = pd.read_csv(INPUT_DIR / \"test_essays.csv\")\n",
    "test_df[\"cleaned_text\"] = test_df[\"text\"].apply(clean_text)"
   ]
  },
  {
   "cell_type": "markdown",
   "metadata": {},
   "source": [
    "### Inference\n"
   ]
  },
  {
   "cell_type": "code",
   "execution_count": null,
   "metadata": {},
   "outputs": [],
   "source": [
    "def inference_fn(\n",
    "    net: nn.Module,\n",
    "    dataloader: DataLoader,\n",
    "    device: str,\n",
    ") -> dict:\n",
    "    outputs = []\n",
    "    net.to(device)\n",
    "    net.eval()\n",
    "\n",
    "    iteration_bar = tqdm(enumerate(dataloader), total=len(dataloader))\n",
    "    for _, batch in iteration_bar:\n",
    "        batch = collate(batch)\n",
    "        for k, v in batch.items():\n",
    "            batch[k] = v.to(device)\n",
    "\n",
    "        with torch.no_grad():\n",
    "            batch_outputs = net(batch)\n",
    "\n",
    "        batch_outputs = batch_outputs.cpu().sigmoid().numpy()\n",
    "        outputs.append(batch_outputs)\n",
    "\n",
    "    outputs = np.concatenate(outputs)\n",
    "    return outputs"
   ]
  },
  {
   "cell_type": "code",
   "execution_count": null,
   "metadata": {},
   "outputs": [],
   "source": [
    "base_output_dir = Path(CFG.paths.output_dir)  # store output_dir for later use\n",
    "\n",
    "test_predictions = 0\n",
    "for i_fold in range(CFG.n_splits):\n",
    "    if i_fold not in CFG.train_folds:\n",
    "        continue\n",
    "\n",
    "    CFG.paths.output_dir = str(base_output_dir / f\"fold{i_fold}\")\n",
    "    best_weights_path = Path(CFG.paths.output_dir) / \"weights\" / \"best.pth\"\n",
    "\n",
    "    net = instantiate(CFG.lightning.model.net, pretrained=False)\n",
    "    test_dataloader = instantiate(CFG.lightning.data.test_dataloader)\n",
    "    net.load_state_dict(torch.load(best_weights_path))\n",
    "\n",
    "    outputs = inference_fn(net=net, dataloader=test_dataloader, device=DEVICE)\n",
    "    test_predictions += outputs / len(CFG.train_folds)\n",
    "\n",
    "CFG.paths.output_dir = str(base_output_dir)  # restore output_dir"
   ]
  },
  {
   "cell_type": "markdown",
   "metadata": {},
   "source": [
    "### Make Submission\n"
   ]
  },
  {
   "cell_type": "code",
   "execution_count": null,
   "metadata": {},
   "outputs": [],
   "source": [
    "submission_df = pd.read_csv(INPUT_DIR / \"sample_submission.csv\")\n",
    "submission_df[\"generated\"] = test_predictions\n",
    "\n",
    "submission_df.to_csv(Path(CFG.paths.submission_dir) / \"submission.csv\", index=False)\n",
    "submission_df"
   ]
  }
 ],
 "metadata": {
  "kernelspec": {
   "display_name": ".venv",
   "language": "python",
   "name": "python3"
  },
  "language_info": {
   "codemirror_mode": {
    "name": "ipython",
    "version": 3
   },
   "file_extension": ".py",
   "mimetype": "text/x-python",
   "name": "python",
   "nbconvert_exporter": "python",
   "pygments_lexer": "ipython3",
   "version": "3.10.12"
  }
 },
 "nbformat": 4,
 "nbformat_minor": 2
}
